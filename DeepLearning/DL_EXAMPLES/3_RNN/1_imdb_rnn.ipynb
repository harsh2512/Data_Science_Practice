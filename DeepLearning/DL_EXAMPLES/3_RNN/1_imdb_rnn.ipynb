{
 "cells": [
  {
   "cell_type": "markdown",
   "metadata": {
    "colab_type": "text",
    "id": "3w2z8AdZjpYA"
   },
   "source": [
    "# IMDB movie review sentiment classification with RNNs\n",
    "\n",
    "In this notebook, we'll train a recurrent neural network (RNN) for sentiment classification using Keras (Tensorflow as the compute backend).  Keras version $\\ge$ 2 is required. \n",
    "\n",
    "First, the needed imports. Keras tells us which backend (Theano, Tensorflow, CNTK) it will be using."
   ]
  },
  {
   "cell_type": "code",
   "execution_count": 9,
   "metadata": {
    "colab": {},
    "colab_type": "code",
    "id": "E_Qwn5fMjpYE"
   },
   "outputs": [],
   "source": [
    "%matplotlib inline\n",
    "\n",
    "from keras.preprocessing import sequence\n",
    "from keras.models import Sequential\n",
    "from keras.layers import Dense, Embedding, Dropout\n",
    "from keras.layers import LSTM\n",
    "from keras.datasets import imdb\n",
    "\n",
    "from IPython.display import SVG\n",
    "from keras.utils.vis_utils import model_to_dot\n",
    "\n",
    "import numpy as np\n",
    "import matplotlib.pyplot as plt\n",
    "import seaborn as sns\n",
    "sns.set()"
   ]
  },
  {
   "cell_type": "markdown",
   "metadata": {
    "colab_type": "text",
    "id": "I6B39OhrjpYK"
   },
   "source": [
    "## IMDB data set\n",
    "\n",
    "Next we'll load the IMDB data set. First time we may have to download the data, which can take a while.\n",
    "\n",
    "The dataset contains 50000 movies reviews from the Internet Movie Database, split into 25000 reviews for training and 25000 reviews for testing. \n",
    "\n",
    "**Half of the reviews are positive (1) and half are negative (0).**\n",
    "\n",
    "The dataset has already been preprocessed, and each word has been replaced by an integer index.\n",
    "\n",
    "The reviews are thus represented as varying-length sequences of integers."
   ]
  },
  {
   "cell_type": "code",
   "execution_count": 10,
   "metadata": {
    "colab": {},
    "colab_type": "code",
    "id": "kWePQHaejpYL"
   },
   "outputs": [
    {
     "name": "stdout",
     "output_type": "stream",
     "text": [
      "Loading data...\n",
      "x_train: (25000,)\n",
      "x_test: (25000,)\n",
      "\n",
      "Pad sequences (samples x time)\n",
      "x_train shape: (25000, 80)\n",
      "x_test shape: (25000, 80)\n"
     ]
    }
   ],
   "source": [
    "# number of most-frequent words to use\n",
    "nb_words = 10000\n",
    "\n",
    "# cut texts after this number of words (review length)\n",
    "maxlen = 80\n",
    "\n",
    "print('Loading data...')\n",
    "(x_train, y_train), (x_test, y_test) = imdb.load_data(num_words=nb_words)\n",
    "print('x_train:', x_train.shape)\n",
    "print('x_test:', x_test.shape)\n",
    "print()\n",
    "\n",
    "print('Pad sequences (samples x time)')\n",
    "x_train = sequence.pad_sequences(x_train, maxlen=maxlen)\n",
    "x_test = sequence.pad_sequences(x_test, maxlen=maxlen)\n",
    "print('x_train shape:', x_train.shape)\n",
    "print('x_test shape:', x_test.shape)"
   ]
  },
  {
   "cell_type": "markdown",
   "metadata": {
    "colab_type": "text",
    "id": "kjRl146PjpYO"
   },
   "source": [
    "The first movie review in the training set:"
   ]
  },
  {
   "cell_type": "code",
   "execution_count": 11,
   "metadata": {
    "colab": {},
    "colab_type": "code",
    "id": "yH9GyLD3jpYP"
   },
   "outputs": [
    {
     "name": "stdout",
     "output_type": "stream",
     "text": [
      "First review in the training set:\n",
      " [  15  256    4    2    7 3766    5  723   36   71   43  530  476   26\n",
      "  400  317   46    7    4    2 1029   13  104   88    4  381   15  297\n",
      "   98   32 2071   56   26  141    6  194 7486   18    4  226   22   21\n",
      "  134  476   26  480    5  144   30 5535   18   51   36   28  224   92\n",
      "   25  104    4  226   65   16   38 1334   88   12   16  283    5   16\n",
      " 4472  113  103   32   15   16 5345   19  178   32] length: 80 class: 1\n"
     ]
    }
   ],
   "source": [
    "print(\"First review in the training set:\\n\", x_train[0], \"length:\", len(x_train[0]), \"class:\", y_train[0])"
   ]
  },
  {
   "cell_type": "markdown",
   "metadata": {
    "colab_type": "text",
    "id": "NpN2hF94jpYS"
   },
   "source": [
    "## Initialization\n",
    "\n",
    "Let's create an RNN model that has one (or optionally two) LSTM layers. Dropout  The first layer in the network is an *Embedding* layer that converts integer indices to dense vectors of length `embedding_dims`. The output layer contains a single neuron and *sigmoid* non-linearity to match the binary groundtruth (`y_train`). \n",
    "\n",
    "Finally, we `compile()` the model, using *binary crossentropy* as the loss function and [*RMSprop*](https://keras.io/optimizers/#rmsprop) as the optimizer."
   ]
  },
  {
   "cell_type": "code",
   "execution_count": 12,
   "metadata": {
    "colab": {},
    "colab_type": "code",
    "id": "qZg_4hbyjpYT"
   },
   "outputs": [
    {
     "name": "stdout",
     "output_type": "stream",
     "text": [
      "Build model...\n",
      "_________________________________________________________________\n",
      "Layer (type)                 Output Shape              Param #   \n",
      "=================================================================\n",
      "embedding_2 (Embedding)      (None, 80, 50)            500000    \n",
      "_________________________________________________________________\n",
      "dropout_2 (Dropout)          (None, 80, 50)            0         \n",
      "_________________________________________________________________\n",
      "lstm_2 (LSTM)                (None, 32)                10624     \n",
      "_________________________________________________________________\n",
      "dense_2 (Dense)              (None, 1)                 33        \n",
      "=================================================================\n",
      "Total params: 510,657\n",
      "Trainable params: 510,657\n",
      "Non-trainable params: 0\n",
      "_________________________________________________________________\n",
      "None\n"
     ]
    }
   ],
   "source": [
    "# model parameters:\n",
    "embedding_dims = 50\n",
    "lstm_units = 32\n",
    "\n",
    "print('Build model...')\n",
    "model = Sequential()\n",
    "\n",
    "# TODO: Explore word embeddings\n",
    "model.add(Embedding(nb_words,\n",
    "                    embedding_dims,\n",
    "                    input_length=maxlen))\n",
    "\n",
    "model.add(Dropout(0.2))\n",
    "\n",
    "model.add(LSTM(lstm_units))\n",
    "\n",
    "# or if running on a GPU:\n",
    "#model.add(CuDNNLSTM(lstm_units))\n",
    "\n",
    "# To stack multiple RNN layers, all RNN layers except the last one need\n",
    "# to have \"return_sequences=True\".  An example of using two RNN layers:\n",
    "#model.add(LSTM(lstm_units, return_sequences=True))\n",
    "#model.add(LSTM(lstm_units))\n",
    "\n",
    "model.add(Dense(1, activation='sigmoid'))\n",
    "\n",
    "# try using different optimizers and different optimizer configs\n",
    "model.compile(loss='binary_crossentropy',\n",
    "              optimizer='rmsprop',\n",
    "              metrics=['accuracy'])\n",
    "\n",
    "print(model.summary())"
   ]
  },
  {
   "cell_type": "code",
   "execution_count": 13,
   "metadata": {
    "colab": {},
    "colab_type": "code",
    "id": "2UNleasVjpYW"
   },
   "outputs": [
    {
     "data": {
      "image/svg+xml": [
       "<svg height=\"377pt\" viewBox=\"0.00 0.00 321.00 377.00\" width=\"321pt\" xmlns=\"http://www.w3.org/2000/svg\" xmlns:xlink=\"http://www.w3.org/1999/xlink\">\n",
       "<g class=\"graph\" id=\"graph0\" transform=\"scale(1 1) rotate(0) translate(4 373)\">\n",
       "<title>G</title>\n",
       "<polygon fill=\"#ffffff\" points=\"-4,4 -4,-373 317,-373 317,4 -4,4\" stroke=\"transparent\"/>\n",
       "<!-- 140103217711088 -->\n",
       "<g class=\"node\" id=\"node1\">\n",
       "<title>140103217711088</title>\n",
       "<polygon fill=\"none\" points=\"0,-249.5 0,-295.5 313,-295.5 313,-249.5 0,-249.5\" stroke=\"#000000\"/>\n",
       "<text fill=\"#000000\" font-family=\"Times,serif\" font-size=\"14.00\" text-anchor=\"middle\" x=\"80.5\" y=\"-268.8\">embedding_2: Embedding</text>\n",
       "<polyline fill=\"none\" points=\"161,-249.5 161,-295.5 \" stroke=\"#000000\"/>\n",
       "<text fill=\"#000000\" font-family=\"Times,serif\" font-size=\"14.00\" text-anchor=\"middle\" x=\"188.5\" y=\"-280.3\">input:</text>\n",
       "<polyline fill=\"none\" points=\"161,-272.5 216,-272.5 \" stroke=\"#000000\"/>\n",
       "<text fill=\"#000000\" font-family=\"Times,serif\" font-size=\"14.00\" text-anchor=\"middle\" x=\"188.5\" y=\"-257.3\">output:</text>\n",
       "<polyline fill=\"none\" points=\"216,-249.5 216,-295.5 \" stroke=\"#000000\"/>\n",
       "<text fill=\"#000000\" font-family=\"Times,serif\" font-size=\"14.00\" text-anchor=\"middle\" x=\"264.5\" y=\"-280.3\">(None, 80)</text>\n",
       "<polyline fill=\"none\" points=\"216,-272.5 313,-272.5 \" stroke=\"#000000\"/>\n",
       "<text fill=\"#000000\" font-family=\"Times,serif\" font-size=\"14.00\" text-anchor=\"middle\" x=\"264.5\" y=\"-257.3\">(None, 80, 50)</text>\n",
       "</g>\n",
       "<!-- 140103192256464 -->\n",
       "<g class=\"node\" id=\"node2\">\n",
       "<title>140103192256464</title>\n",
       "<polygon fill=\"none\" points=\"18,-166.5 18,-212.5 295,-212.5 295,-166.5 18,-166.5\" stroke=\"#000000\"/>\n",
       "<text fill=\"#000000\" font-family=\"Times,serif\" font-size=\"14.00\" text-anchor=\"middle\" x=\"80.5\" y=\"-185.8\">dropout_2: Dropout</text>\n",
       "<polyline fill=\"none\" points=\"143,-166.5 143,-212.5 \" stroke=\"#000000\"/>\n",
       "<text fill=\"#000000\" font-family=\"Times,serif\" font-size=\"14.00\" text-anchor=\"middle\" x=\"170.5\" y=\"-197.3\">input:</text>\n",
       "<polyline fill=\"none\" points=\"143,-189.5 198,-189.5 \" stroke=\"#000000\"/>\n",
       "<text fill=\"#000000\" font-family=\"Times,serif\" font-size=\"14.00\" text-anchor=\"middle\" x=\"170.5\" y=\"-174.3\">output:</text>\n",
       "<polyline fill=\"none\" points=\"198,-166.5 198,-212.5 \" stroke=\"#000000\"/>\n",
       "<text fill=\"#000000\" font-family=\"Times,serif\" font-size=\"14.00\" text-anchor=\"middle\" x=\"246.5\" y=\"-197.3\">(None, 80, 50)</text>\n",
       "<polyline fill=\"none\" points=\"198,-189.5 295,-189.5 \" stroke=\"#000000\"/>\n",
       "<text fill=\"#000000\" font-family=\"Times,serif\" font-size=\"14.00\" text-anchor=\"middle\" x=\"246.5\" y=\"-174.3\">(None, 80, 50)</text>\n",
       "</g>\n",
       "<!-- 140103217711088&#45;&gt;140103192256464 -->\n",
       "<g class=\"edge\" id=\"edge2\">\n",
       "<title>140103217711088-&gt;140103192256464</title>\n",
       "<path d=\"M156.5,-249.3799C156.5,-241.1745 156.5,-231.7679 156.5,-222.8786\" fill=\"none\" stroke=\"#000000\"/>\n",
       "<polygon fill=\"#000000\" points=\"160.0001,-222.784 156.5,-212.784 153.0001,-222.784 160.0001,-222.784\" stroke=\"#000000\"/>\n",
       "</g>\n",
       "<!-- 140103217876552 -->\n",
       "<g class=\"node\" id=\"node3\">\n",
       "<title>140103217876552</title>\n",
       "<polygon fill=\"none\" points=\"31.5,-83.5 31.5,-129.5 281.5,-129.5 281.5,-83.5 31.5,-83.5\" stroke=\"#000000\"/>\n",
       "<text fill=\"#000000\" font-family=\"Times,serif\" font-size=\"14.00\" text-anchor=\"middle\" x=\"80.5\" y=\"-102.8\">lstm_2: LSTM</text>\n",
       "<polyline fill=\"none\" points=\"129.5,-83.5 129.5,-129.5 \" stroke=\"#000000\"/>\n",
       "<text fill=\"#000000\" font-family=\"Times,serif\" font-size=\"14.00\" text-anchor=\"middle\" x=\"157\" y=\"-114.3\">input:</text>\n",
       "<polyline fill=\"none\" points=\"129.5,-106.5 184.5,-106.5 \" stroke=\"#000000\"/>\n",
       "<text fill=\"#000000\" font-family=\"Times,serif\" font-size=\"14.00\" text-anchor=\"middle\" x=\"157\" y=\"-91.3\">output:</text>\n",
       "<polyline fill=\"none\" points=\"184.5,-83.5 184.5,-129.5 \" stroke=\"#000000\"/>\n",
       "<text fill=\"#000000\" font-family=\"Times,serif\" font-size=\"14.00\" text-anchor=\"middle\" x=\"233\" y=\"-114.3\">(None, 80, 50)</text>\n",
       "<polyline fill=\"none\" points=\"184.5,-106.5 281.5,-106.5 \" stroke=\"#000000\"/>\n",
       "<text fill=\"#000000\" font-family=\"Times,serif\" font-size=\"14.00\" text-anchor=\"middle\" x=\"233\" y=\"-91.3\">(None, 32)</text>\n",
       "</g>\n",
       "<!-- 140103192256464&#45;&gt;140103217876552 -->\n",
       "<g class=\"edge\" id=\"edge3\">\n",
       "<title>140103192256464-&gt;140103217876552</title>\n",
       "<path d=\"M156.5,-166.3799C156.5,-158.1745 156.5,-148.7679 156.5,-139.8786\" fill=\"none\" stroke=\"#000000\"/>\n",
       "<polygon fill=\"#000000\" points=\"160.0001,-139.784 156.5,-129.784 153.0001,-139.784 160.0001,-139.784\" stroke=\"#000000\"/>\n",
       "</g>\n",
       "<!-- 140103217875208 -->\n",
       "<g class=\"node\" id=\"node4\">\n",
       "<title>140103217875208</title>\n",
       "<polygon fill=\"none\" points=\"40,-.5 40,-46.5 273,-46.5 273,-.5 40,-.5\" stroke=\"#000000\"/>\n",
       "<text fill=\"#000000\" font-family=\"Times,serif\" font-size=\"14.00\" text-anchor=\"middle\" x=\"91\" y=\"-19.8\">dense_2: Dense</text>\n",
       "<polyline fill=\"none\" points=\"142,-.5 142,-46.5 \" stroke=\"#000000\"/>\n",
       "<text fill=\"#000000\" font-family=\"Times,serif\" font-size=\"14.00\" text-anchor=\"middle\" x=\"169.5\" y=\"-31.3\">input:</text>\n",
       "<polyline fill=\"none\" points=\"142,-23.5 197,-23.5 \" stroke=\"#000000\"/>\n",
       "<text fill=\"#000000\" font-family=\"Times,serif\" font-size=\"14.00\" text-anchor=\"middle\" x=\"169.5\" y=\"-8.3\">output:</text>\n",
       "<polyline fill=\"none\" points=\"197,-.5 197,-46.5 \" stroke=\"#000000\"/>\n",
       "<text fill=\"#000000\" font-family=\"Times,serif\" font-size=\"14.00\" text-anchor=\"middle\" x=\"235\" y=\"-31.3\">(None, 32)</text>\n",
       "<polyline fill=\"none\" points=\"197,-23.5 273,-23.5 \" stroke=\"#000000\"/>\n",
       "<text fill=\"#000000\" font-family=\"Times,serif\" font-size=\"14.00\" text-anchor=\"middle\" x=\"235\" y=\"-8.3\">(None, 1)</text>\n",
       "</g>\n",
       "<!-- 140103217876552&#45;&gt;140103217875208 -->\n",
       "<g class=\"edge\" id=\"edge4\">\n",
       "<title>140103217876552-&gt;140103217875208</title>\n",
       "<path d=\"M156.5,-83.3799C156.5,-75.1745 156.5,-65.7679 156.5,-56.8786\" fill=\"none\" stroke=\"#000000\"/>\n",
       "<polygon fill=\"#000000\" points=\"160.0001,-56.784 156.5,-46.784 153.0001,-56.784 160.0001,-56.784\" stroke=\"#000000\"/>\n",
       "</g>\n",
       "<!-- 140103192255624 -->\n",
       "<g class=\"node\" id=\"node5\">\n",
       "<title>140103192255624</title>\n",
       "<polygon fill=\"none\" points=\"97.5,-332.5 97.5,-368.5 215.5,-368.5 215.5,-332.5 97.5,-332.5\" stroke=\"#000000\"/>\n",
       "<text fill=\"#000000\" font-family=\"Times,serif\" font-size=\"14.00\" text-anchor=\"middle\" x=\"156.5\" y=\"-346.8\">140103192255624</text>\n",
       "</g>\n",
       "<!-- 140103192255624&#45;&gt;140103217711088 -->\n",
       "<g class=\"edge\" id=\"edge1\">\n",
       "<title>140103192255624-&gt;140103217711088</title>\n",
       "<path d=\"M156.5,-332.4092C156.5,-324.4308 156.5,-314.795 156.5,-305.606\" fill=\"none\" stroke=\"#000000\"/>\n",
       "<polygon fill=\"#000000\" points=\"160.0001,-305.5333 156.5,-295.5333 153.0001,-305.5334 160.0001,-305.5333\" stroke=\"#000000\"/>\n",
       "</g>\n",
       "</g>\n",
       "</svg>"
      ],
      "text/plain": [
       "<IPython.core.display.SVG object>"
      ]
     },
     "execution_count": 13,
     "metadata": {},
     "output_type": "execute_result"
    }
   ],
   "source": [
    "SVG(model_to_dot(model, show_shapes=True).create(prog='dot', format='svg'))"
   ]
  },
  {
   "cell_type": "markdown",
   "metadata": {
    "colab_type": "text",
    "id": "t8NjU9C1jpYY"
   },
   "source": [
    "## Learning\n",
    "\n",
    "Now we are ready to train our model.  An *epoch* means one pass through the whole training data. Note also that we are using a fraction of the training data as our validation set.\n",
    "\n",
    "Note that LSTMs are rather slow to train."
   ]
  },
  {
   "cell_type": "code",
   "execution_count": 14,
   "metadata": {
    "colab": {},
    "colab_type": "code",
    "id": "VhNtPZO1jpYZ"
   },
   "outputs": [
    {
     "name": "stdout",
     "output_type": "stream",
     "text": [
      "Train on 20000 samples, validate on 5000 samples\n",
      "Epoch 1/5\n",
      "20000/20000 [==============================] - 19s 951us/step - loss: 0.5164 - acc: 0.7450 - val_loss: 0.4507 - val_acc: 0.7894\n",
      "Epoch 2/5\n",
      "20000/20000 [==============================] - 15s 769us/step - loss: 0.3295 - acc: 0.8622 - val_loss: 0.3526 - val_acc: 0.8416\n",
      "Epoch 3/5\n",
      "20000/20000 [==============================] - 15s 762us/step - loss: 0.2765 - acc: 0.8878 - val_loss: 0.3770 - val_acc: 0.8336\n",
      "Epoch 4/5\n",
      "20000/20000 [==============================] - 14s 722us/step - loss: 0.2500 - acc: 0.8998 - val_loss: 0.3553 - val_acc: 0.8446\n",
      "Epoch 5/5\n",
      "20000/20000 [==============================] - 15s 754us/step - loss: 0.2295 - acc: 0.9097 - val_loss: 0.3885 - val_acc: 0.8438\n",
      "CPU times: user 2min 12s, sys: 2min 13s, total: 4min 25s\n",
      "Wall time: 1min 20s\n"
     ]
    }
   ],
   "source": [
    "%%time\n",
    "epochs = 5\n",
    "validation_split = 0.2\n",
    "\n",
    "history = model.fit(x_train, y_train, batch_size=128,\n",
    "          epochs=epochs, \n",
    "          validation_split=validation_split)\n"
   ]
  },
  {
   "cell_type": "markdown",
   "metadata": {
    "colab_type": "text",
    "id": "6ljZvl9DjpYc"
   },
   "source": [
    "Let's plot the data to see how the training progressed. A big gap between training and validation accuracies would suggest overfitting."
   ]
  },
  {
   "cell_type": "code",
   "execution_count": 15,
   "metadata": {
    "colab": {},
    "colab_type": "code",
    "id": "IpMPck96jpYd"
   },
   "outputs": [
    {
     "data": {
      "image/png": "[encoded data removed]",
      "text/plain": [
       "<Figure size 360x216 with 1 Axes>"
      ]
     },
     "metadata": {},
     "output_type": "display_data"
    },
    {
     "data": {
      "image/png": "[encoded data removed]",
      "text/plain": [
       "<Figure size 360x216 with 1 Axes>"
      ]
     },
     "metadata": {},
     "output_type": "display_data"
    }
   ],
   "source": [
    "plt.figure(figsize=(5,3))\n",
    "plt.plot(history.epoch,history.history['loss'], label='training')\n",
    "plt.plot(history.epoch,history.history['val_loss'], label='validation')\n",
    "plt.title('loss')\n",
    "plt.legend(loc='best')\n",
    "\n",
    "plt.figure(figsize=(5,3))\n",
    "plt.plot(history.epoch,history.history['acc'], label='training')\n",
    "plt.plot(history.epoch,history.history['val_acc'], label='validation')\n",
    "plt.title('accuracy')\n",
    "plt.legend(loc='best');"
   ]
  },
  {
   "cell_type": "markdown",
   "metadata": {
    "colab_type": "text",
    "id": "JVmzq8mTjpYg"
   },
   "source": [
    "## Inference\n",
    "\n",
    "For a better measure of the quality of the model, let's see the model accuracy for the test data. "
   ]
  },
  {
   "cell_type": "code",
   "execution_count": 16,
   "metadata": {
    "colab": {},
    "colab_type": "code",
    "id": "waHDwNHtjpYh"
   },
   "outputs": [
    {
     "name": "stdout",
     "output_type": "stream",
     "text": [
      "acc: 83.69%\n"
     ]
    }
   ],
   "source": [
    "scores = model.evaluate(x_test, y_test, verbose=2)\n",
    "print(\"%s: %.2f%%\" % (model.metrics_names[1], scores[1]*100))"
   ]
  }
 ],
 "metadata": {
  "colab": {
   "name": "keras-imdb-rnn.ipynb",
   "provenance": [],
   "version": "0.3.2"
  },
  "kernelspec": {
   "display_name": "Python 3",
   "language": "python",
   "name": "python3"
  },
  "language_info": {
   "codemirror_mode": {
    "name": "ipython",
    "version": 3
   },
   "file_extension": ".py",
   "mimetype": "text/x-python",
   "name": "python",
   "nbconvert_exporter": "python",
   "pygments_lexer": "ipython3",
   "version": "3.6.8"
  }
 },
 "nbformat": 4,
 "nbformat_minor": 1
}
