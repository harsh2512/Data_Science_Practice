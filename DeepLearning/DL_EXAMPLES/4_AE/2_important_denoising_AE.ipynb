{
 "cells": [
  {
   "cell_type": "markdown",
   "metadata": {},
   "source": [
    "## Denoising Autoencoder\n",
    "### Remove noise from MNIST digits using Autoencoder\n",
    "Reference/Study Material: \n",
    "\n",
    "https://blog.keras.io/building-autoencoders-in-keras.html\n",
    "https://keras.io/examples/mnist_denoising_autoencoder/"
   ]
  },
  {
   "cell_type": "code",
   "execution_count": 1,
   "metadata": {},
   "outputs": [
    {
     "name": "stderr",
     "output_type": "stream",
     "text": [
      "Using TensorFlow backend.\n"
     ]
    }
   ],
   "source": [
    "import numpy as np\n",
    "import matplotlib.pyplot as plt\n",
    "\n",
    "from keras.models import Model\n",
    "from keras.layers import (Input, Dense)\n",
    "\n",
    "# Load data\n",
    "from keras.datasets import mnist\n"
   ]
  },
  {
   "cell_type": "code",
   "execution_count": 2,
   "metadata": {},
   "outputs": [],
   "source": [
    "# input image dimensions\n",
    "img_rows, img_cols = 28, 28                          \n",
    "input_shape = (img_rows * img_cols, )\n",
    "\n",
    "# the data, shuffled and split between train and test sets\n",
    "(x_train, _), (x_test, _) = mnist.load_data()\n",
    "\n",
    "x_train = x_train.reshape(x_train.shape[0], img_rows * img_cols)\n",
    "x_test = x_test.reshape(x_test.shape[0], img_rows * img_cols)\n",
    "\n",
    "x_train = x_train.astype('float32') / 255\n",
    "x_test = x_test.astype('float32') / 255\n"
   ]
  },
  {
   "cell_type": "code",
   "execution_count": 3,
   "metadata": {},
   "outputs": [
    {
     "name": "stdout",
     "output_type": "stream",
     "text": [
      "60000  train samples\n",
      "10000  test samples\n"
     ]
    }
   ],
   "source": [
    "noise_factor = 0.5\n",
    "x_train_noisy = x_train + noise_factor * np.random.normal(loc=0.0, scale=1.0, size=x_train.shape)\n",
    "x_test_noisy = x_test + noise_factor * np.random.normal(loc=0.0, scale=1.0, size=x_test.shape)\n",
    "x_train_noisy = np.clip(x_train_noisy, 0., 1.)\n",
    "x_test_noisy = np.clip(x_test_noisy, 0., 1.)\n",
    "\n",
    "print(x_train.shape[0], ' train samples')\n",
    "print(x_test.shape[0], ' test samples')"
   ]
  },
  {
   "cell_type": "code",
   "execution_count": 4,
   "metadata": {},
   "outputs": [],
   "source": [
    "def AE(features_shape):\n",
    "\n",
    "    # Input\n",
    "    x = Input(name='inputs', shape=features_shape, dtype='float32')\n",
    "    o = x\n",
    "    \n",
    "    # Encoder\n",
    "    enc = Dense(32, activation='relu', name='encoder')(o)\n",
    "    \n",
    "    # Decoder\n",
    "    dec = Dense(features_shape[0], activation='sigmoid', name='decoder')(enc)\n",
    "    \n",
    "    # Print network summary\n",
    "    Model(inputs=x, outputs=dec).summary()\n",
    "    \n",
    "    return Model(inputs=x, outputs=dec)"
   ]
  },
  {
   "cell_type": "code",
   "execution_count": 5,
   "metadata": {},
   "outputs": [
    {
     "name": "stdout",
     "output_type": "stream",
     "text": [
      "_________________________________________________________________\n",
      "Layer (type)                 Output Shape              Param #   \n",
      "=================================================================\n",
      "inputs (InputLayer)          (None, 784)               0         \n",
      "_________________________________________________________________\n",
      "encoder (Dense)              (None, 32)                25120     \n",
      "_________________________________________________________________\n",
      "decoder (Dense)              (None, 784)               25872     \n",
      "=================================================================\n",
      "Total params: 50,992\n",
      "Trainable params: 50,992\n",
      "Non-trainable params: 0\n",
      "_________________________________________________________________\n",
      "Train on 60000 samples, validate on 10000 samples\n",
      "Epoch 1/40\n",
      "60000/60000 [==============================] - 4s 74us/step - loss: 0.2964 - val_loss: 0.2637\n",
      "Epoch 2/40\n",
      "60000/60000 [==============================] - 4s 61us/step - loss: 0.2566 - val_loss: 0.2450\n",
      "Epoch 3/40\n",
      "60000/60000 [==============================] - 3s 55us/step - loss: 0.2340 - val_loss: 0.2211\n",
      "Epoch 4/40\n",
      "60000/60000 [==============================] - 3s 51us/step - loss: 0.2132 - val_loss: 0.2028\n",
      "Epoch 5/40\n",
      "60000/60000 [==============================] - 3s 51us/step - loss: 0.1974 - val_loss: 0.1897\n",
      "Epoch 6/40\n",
      "60000/60000 [==============================] - 3s 51us/step - loss: 0.1866 - val_loss: 0.1808\n",
      "Epoch 7/40\n",
      "60000/60000 [==============================] - 3s 54us/step - loss: 0.1789 - val_loss: 0.1741\n",
      "Epoch 8/40\n",
      "60000/60000 [==============================] - 3s 46us/step - loss: 0.1727 - val_loss: 0.1684\n",
      "Epoch 9/40\n",
      "60000/60000 [==============================] - 3s 50us/step - loss: 0.1674 - val_loss: 0.1637\n",
      "Epoch 10/40\n",
      "60000/60000 [==============================] - 3s 53us/step - loss: 0.1631 - val_loss: 0.1598\n",
      "Epoch 11/40\n",
      "60000/60000 [==============================] - 3s 49us/step - loss: 0.1596 - val_loss: 0.1567\n",
      "Epoch 12/40\n",
      "60000/60000 [==============================] - 3s 50us/step - loss: 0.1567 - val_loss: 0.1539\n",
      "Epoch 13/40\n",
      "60000/60000 [==============================] - 3s 47us/step - loss: 0.1541 - val_loss: 0.1515\n",
      "Epoch 14/40\n",
      "60000/60000 [==============================] - 3s 52us/step - loss: 0.1518 - val_loss: 0.1494\n",
      "Epoch 15/40\n",
      "60000/60000 [==============================] - 3s 50us/step - loss: 0.1498 - val_loss: 0.1474\n",
      "Epoch 16/40\n",
      "60000/60000 [==============================] - 3s 52us/step - loss: 0.1480 - val_loss: 0.1457\n",
      "Epoch 17/40\n",
      "60000/60000 [==============================] - 3s 50us/step - loss: 0.1464 - val_loss: 0.1443\n",
      "Epoch 18/40\n",
      "60000/60000 [==============================] - 3s 44us/step - loss: 0.1449 - val_loss: 0.1428\n",
      "Epoch 19/40\n",
      "60000/60000 [==============================] - 3s 44us/step - loss: 0.1436 - val_loss: 0.1416\n",
      "Epoch 20/40\n",
      "60000/60000 [==============================] - 3s 44us/step - loss: 0.1423 - val_loss: 0.1405\n",
      "Epoch 21/40\n",
      "60000/60000 [==============================] - 3s 48us/step - loss: 0.1412 - val_loss: 0.1393\n",
      "Epoch 22/40\n",
      "60000/60000 [==============================] - 3s 51us/step - loss: 0.1401 - val_loss: 0.1383\n",
      "Epoch 23/40\n",
      "60000/60000 [==============================] - 3s 49us/step - loss: 0.1391 - val_loss: 0.1374\n",
      "Epoch 24/40\n",
      "60000/60000 [==============================] - 3s 50us/step - loss: 0.1382 - val_loss: 0.1366\n",
      "Epoch 25/40\n",
      "60000/60000 [==============================] - 3s 50us/step - loss: 0.1374 - val_loss: 0.1358\n",
      "Epoch 26/40\n",
      "60000/60000 [==============================] - 3s 53us/step - loss: 0.1366 - val_loss: 0.1351\n",
      "Epoch 27/40\n",
      "60000/60000 [==============================] - 3s 52us/step - loss: 0.1360 - val_loss: 0.1345\n",
      "Epoch 28/40\n",
      "60000/60000 [==============================] - 3s 54us/step - loss: 0.1354 - val_loss: 0.1340\n",
      "Epoch 29/40\n",
      "60000/60000 [==============================] - 3s 49us/step - loss: 0.1349 - val_loss: 0.1335\n",
      "Epoch 30/40\n",
      "60000/60000 [==============================] - 3s 52us/step - loss: 0.1344 - val_loss: 0.1331\n",
      "Epoch 31/40\n",
      "60000/60000 [==============================] - 3s 52us/step - loss: 0.1340 - val_loss: 0.1327\n",
      "Epoch 32/40\n",
      "60000/60000 [==============================] - 3s 52us/step - loss: 0.1337 - val_loss: 0.1324\n",
      "Epoch 33/40\n",
      "60000/60000 [==============================] - 3s 56us/step - loss: 0.1333 - val_loss: 0.1321\n",
      "Epoch 34/40\n",
      "60000/60000 [==============================] - 3s 51us/step - loss: 0.1330 - val_loss: 0.1318\n",
      "Epoch 35/40\n",
      "60000/60000 [==============================] - 3s 49us/step - loss: 0.1328 - val_loss: 0.1316\n",
      "Epoch 36/40\n",
      "60000/60000 [==============================] - 3s 47us/step - loss: 0.1325 - val_loss: 0.1314\n",
      "Epoch 37/40\n",
      "60000/60000 [==============================] - 3s 52us/step - loss: 0.1323 - val_loss: 0.1313\n",
      "Epoch 38/40\n",
      "60000/60000 [==============================] - 3s 51us/step - loss: 0.1321 - val_loss: 0.1310\n",
      "Epoch 39/40\n",
      "60000/60000 [==============================] - 3s 50us/step - loss: 0.1320 - val_loss: 0.1309\n",
      "Epoch 40/40\n",
      "60000/60000 [==============================] - 3s 50us/step - loss: 0.1318 - val_loss: 0.1308\n"
     ]
    }
   ],
   "source": [
    "batch_size = 128\n",
    "epochs = 40\n",
    "\n",
    "autoenc = AE(input_shape)\n",
    "autoenc.compile(optimizer='adadelta', loss='binary_crossentropy')\n",
    "\n",
    "autoenc.fit(x_train_noisy, x_train, epochs=epochs, batch_size=batch_size,\n",
    "            shuffle=True, validation_data=(x_test_noisy, x_test))\n",
    "\n",
    "decoded_imgs = autoenc.predict(x_test_noisy)"
   ]
  },
  {
   "cell_type": "code",
   "execution_count": 6,
   "metadata": {},
   "outputs": [
    {
     "data": {
      "image/png": "[encoded data removed]",
      "text/plain": [
       "<Figure size 1440x288 with 20 Axes>"
      ]
     },
     "metadata": {
      "needs_background": "light"
     },
     "output_type": "display_data"
    }
   ],
   "source": [
    "n = 10\n",
    "plt.figure(figsize=(20, 4))\n",
    "for i in range(1,n+1):\n",
    "    # display original\n",
    "    ax = plt.subplot(2, n, i)\n",
    "    plt.imshow(x_test_noisy[i].reshape(28, 28))\n",
    "    plt.gray()\n",
    "    ax.get_xaxis().set_visible(False)\n",
    "    ax.get_yaxis().set_visible(False)\n",
    "\n",
    "    # display reconstruction\n",
    "    ax = plt.subplot(2, n, i + n)\n",
    "    plt.imshow(decoded_imgs[i].reshape(28, 28))\n",
    "    plt.gray()\n",
    "    ax.get_xaxis().set_visible(False)\n",
    "    ax.get_yaxis().set_visible(False)\n",
    "plt.show()"
   ]
  },
  {
   "cell_type": "code",
   "execution_count": null,
   "metadata": {},
   "outputs": [],
   "source": []
  }
 ],
 "metadata": {
  "kernelspec": {
   "display_name": "Python 3",
   "language": "python",
   "name": "python3"
  },
  "language_info": {
   "codemirror_mode": {
    "name": "ipython",
    "version": 3
   },
   "file_extension": ".py",
   "mimetype": "text/x-python",
   "name": "python",
   "nbconvert_exporter": "python",
   "pygments_lexer": "ipython3",
   "version": "3.6.8"
  }
 },
 "nbformat": 4,
 "nbformat_minor": 2
}
