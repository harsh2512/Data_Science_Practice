{
 "cells": [
  {
   "cell_type": "markdown",
   "metadata": {},
   "source": [
    "# Basics of MLP\n",
    "- Objective: Create vanilla neural networks (i.e., Multilayer perceptrons) for simple regression/classification tasks with Keras"
   ]
  },
  {
   "cell_type": "markdown",
   "metadata": {},
   "source": [
    "## MLP Structures\n",
    "- Each MLP model is consisted of one input layer, several hidden layers, and one output layer\n",
    "- Number of neurons in each layer is not limited\n",
    "<img src=\"http://cs231n.github.io/assets/nn1/neural_net.jpeg\" style=\"width: 300px\"/>\n",
    "<br>\n",
    "<center>**MLP with one hidden layer**</center>\n",
    "- Number of input neurons: 3\n",
    "- Number of hidden neurons: 4\n",
    "- Number of output neurons: 2\n"
   ]
  },
  {
   "cell_type": "markdown",
   "metadata": {},
   "source": [
    "<img src=\"http://cs231n.github.io/assets/nn1/neural_net2.jpeg\" style=\"width: 500px\"/>\n",
    "<br>\n",
    "<center>**MLP with two hidden layers**</center>\n",
    "\n",
    "- Number of input neurons: 3\n",
    "- Number of hidden neurons: (4, 4)\n",
    "- Number of output neurons: 1\n"
   ]
  },
  {
   "cell_type": "markdown",
   "metadata": {},
   "source": [
    "## MLP for Regression tasks\n",
    "- When the target (**y**) is continuous (real)\n",
    "- For loss function and evaluation metric, mean squared error (MSE) is commonly used"
   ]
  },
  {
   "cell_type": "code",
   "execution_count": 1,
   "metadata": {},
   "outputs": [
    {
     "name": "stderr",
     "output_type": "stream",
     "text": [
      "Using TensorFlow backend.\n"
     ]
    }
   ],
   "source": [
    "from keras.datasets import boston_housing"
   ]
  },
  {
   "cell_type": "code",
   "execution_count": 2,
   "metadata": {},
   "outputs": [],
   "source": [
    "(X_train, y_train), (X_test, y_test) = boston_housing.load_data()"
   ]
  },
  {
   "cell_type": "markdown",
   "metadata": {},
   "source": [
    "### Dataset Description\n",
    "- Boston housing dataset has total 506 data instances (404 training & 102 test)\n",
    "- 13 attributes (features) to predict \"the median values of the houses at a location\"\n",
    "- Doc: https://keras.io/datasets/"
   ]
  },
  {
   "cell_type": "code",
   "execution_count": 3,
   "metadata": {},
   "outputs": [
    {
     "name": "stdout",
     "output_type": "stream",
     "text": [
      "(404, 13)\n",
      "(102, 13)\n",
      "(404,)\n",
      "(102,)\n"
     ]
    }
   ],
   "source": [
    "print(X_train.shape)\n",
    "print(X_test.shape)\n",
    "print(y_train.shape)\n",
    "print(y_test.shape)"
   ]
  },
  {
   "cell_type": "markdown",
   "metadata": {},
   "source": [
    "### 1. Creating a model\n",
    "- Keras model object can be created with Sequential class\n",
    "- At the outset, the model is empty per se. It is completed by **'adding'** additional layers and compilation\n",
    "- Ref: https://keras.io/models/sequential/\n",
    "- Ref: https://keras.io/getting-started/sequential-model-guide/"
   ]
  },
  {
   "cell_type": "code",
   "execution_count": 4,
   "metadata": {},
   "outputs": [],
   "source": [
    "# The Sequential model is a linear stack of layers.\n",
    "# You can create a Sequential model by passing a list of layer instances to the constructor:\n",
    "# OR \n",
    "# You can also simply add layers via the .add() method:\n",
    "from keras.models import Sequential"
   ]
  },
  {
   "cell_type": "code",
   "execution_count": 5,
   "metadata": {},
   "outputs": [],
   "source": [
    "model = Sequential()"
   ]
  },
  {
   "cell_type": "code",
   "execution_count": 6,
   "metadata": {},
   "outputs": [
    {
     "data": {
      "text/plain": [
       "<keras.engine.sequential.Sequential at 0x1808eb61ef0>"
      ]
     },
     "execution_count": 6,
     "metadata": {},
     "output_type": "execute_result"
    }
   ],
   "source": [
    "model # TODO: Explore its attributes"
   ]
  },
  {
   "cell_type": "markdown",
   "metadata": {},
   "source": [
    "### 1-1. Adding layers\n",
    "- Keras layers can be **added** to the model\n",
    "- Adding layers are like stacking lego blocks one by one\n",
    "- Doc: https://keras.io/layers/core/"
   ]
  },
  {
   "cell_type": "code",
   "execution_count": 7,
   "metadata": {},
   "outputs": [],
   "source": [
    "from keras.layers import Activation, Dense"
   ]
  },
  {
   "cell_type": "code",
   "execution_count": 8,
   "metadata": {},
   "outputs": [
    {
     "name": "stdout",
     "output_type": "stream",
     "text": [
      "WARNING:tensorflow:From C:\\Users\\lavet\\Anaconda3\\lib\\site-packages\\tensorflow\\python\\framework\\op_def_library.py:263: colocate_with (from tensorflow.python.framework.ops) is deprecated and will be removed in a future version.\n",
      "Instructions for updating:\n",
      "Colocations handled automatically by placer.\n"
     ]
    }
   ],
   "source": [
    "# Keras model with two hidden layer with 10 neurons each \n",
    "# Method 1\n",
    "model.add(Dense(10, input_shape = (13,)))    # Input layer => input_shape should be explicitly designated\n",
    "model.add(Activation('sigmoid'))\n",
    "\n",
    "model.add(Dense(10))                         # Hidden layer => only output dimension should be designated\n",
    "model.add(Activation('sigmoid'))\n",
    "\n",
    "model.add(Dense(10))                         # Hidden layer => only output dimension should be designated\n",
    "model.add(Activation('sigmoid'))\n",
    "\n",
    "model.add(Dense(1))                          # Output layer => output dimension = 1 since it is regression problem"
   ]
  },
  {
   "cell_type": "code",
   "execution_count": 9,
   "metadata": {},
   "outputs": [],
   "source": [
    "# This is equivalent to the above code block\n",
    "# Method 2\n",
    "model.add(Dense(10, input_shape = (13,), activation = 'sigmoid')) # Input layer\n",
    "model.add(Dense(10, activation = 'sigmoid')) # Hideen Layer1\n",
    "model.add(Dense(10, activation = 'sigmoid')) # Hidden Layer2\n",
    "model.add(Dense(1)) # Output Layer"
   ]
  },
  {
   "cell_type": "markdown",
   "metadata": {},
   "source": [
    "### 1-2. Model compile\n",
    "- Keras model should be \"compiled\" prior to training\n",
    "- Types of loss (function) and optimizer should be designated\n",
    "    - Doc (optimizers): https://keras.io/optimizers/\n",
    "    - Doc (losses): https://keras.io/losses/"
   ]
  },
  {
   "cell_type": "code",
   "execution_count": 10,
   "metadata": {},
   "outputs": [],
   "source": [
    "from keras import optimizers"
   ]
  },
  {
   "cell_type": "code",
   "execution_count": 11,
   "metadata": {},
   "outputs": [],
   "source": [
    "sgd = optimizers.SGD(lr = 0.01)    # stochastic gradient descent optimizer"
   ]
  },
  {
   "cell_type": "code",
   "execution_count": 12,
   "metadata": {},
   "outputs": [],
   "source": [
    "model.compile(optimizer = sgd, loss = 'mean_squared_error', metrics = ['mse'])    # for regression problems, mean squared error (MSE) is often employed"
   ]
  },
  {
   "cell_type": "markdown",
   "metadata": {},
   "source": [
    "### Summary of the model"
   ]
  },
  {
   "cell_type": "code",
   "execution_count": 13,
   "metadata": {
    "scrolled": true
   },
   "outputs": [
    {
     "name": "stdout",
     "output_type": "stream",
     "text": [
      "_________________________________________________________________\n",
      "Layer (type)                 Output Shape              Param #   \n",
      "=================================================================\n",
      "dense_1 (Dense)              (None, 10)                140       \n",
      "_________________________________________________________________\n",
      "activation_1 (Activation)    (None, 10)                0         \n",
      "_________________________________________________________________\n",
      "dense_2 (Dense)              (None, 10)                110       \n",
      "_________________________________________________________________\n",
      "activation_2 (Activation)    (None, 10)                0         \n",
      "_________________________________________________________________\n",
      "dense_3 (Dense)              (None, 10)                110       \n",
      "_________________________________________________________________\n",
      "activation_3 (Activation)    (None, 10)                0         \n",
      "_________________________________________________________________\n",
      "dense_4 (Dense)              (None, 1)                 11        \n",
      "_________________________________________________________________\n",
      "dense_5 (Dense)              (None, 10)                20        \n",
      "_________________________________________________________________\n",
      "dense_6 (Dense)              (None, 10)                110       \n",
      "_________________________________________________________________\n",
      "dense_7 (Dense)              (None, 10)                110       \n",
      "_________________________________________________________________\n",
      "dense_8 (Dense)              (None, 1)                 11        \n",
      "=================================================================\n",
      "Total params: 622\n",
      "Trainable params: 622\n",
      "Non-trainable params: 0\n",
      "_________________________________________________________________\n"
     ]
    }
   ],
   "source": [
    "model.summary()"
   ]
  },
  {
   "cell_type": "markdown",
   "metadata": {},
   "source": [
    "### 2. Training\n",
    "- Training the model with training data provided"
   ]
  },
  {
   "cell_type": "code",
   "execution_count": 14,
   "metadata": {},
   "outputs": [
    {
     "name": "stdout",
     "output_type": "stream",
     "text": [
      "WARNING:tensorflow:From C:\\Users\\lavet\\Anaconda3\\lib\\site-packages\\tensorflow\\python\\ops\\math_ops.py:3066: to_int32 (from tensorflow.python.ops.math_ops) is deprecated and will be removed in a future version.\n",
      "Instructions for updating:\n",
      "Use tf.cast instead.\n",
      "Epoch 1/100\n",
      "404/404 [==============================] - 0s 664us/step - loss: 385.4248 - mean_squared_error: 385.4248\n",
      "Epoch 2/100\n",
      "404/404 [==============================] - 0s 40us/step - loss: 96.0317 - mean_squared_error: 96.0317\n",
      "Epoch 3/100\n",
      "404/404 [==============================] - 0s 30us/step - loss: 85.5583 - mean_squared_error: 85.5583\n",
      "Epoch 4/100\n",
      "404/404 [==============================] - 0s 40us/step - loss: 84.8890 - mean_squared_error: 84.8890\n",
      "Epoch 5/100\n",
      "404/404 [==============================] - 0s 20us/step - loss: 85.2514 - mean_squared_error: 85.2514\n",
      "Epoch 6/100\n",
      "404/404 [==============================] - 0s 30us/step - loss: 85.1706 - mean_squared_error: 85.1706\n",
      "Epoch 7/100\n",
      "404/404 [==============================] - 0s 30us/step - loss: 85.9864 - mean_squared_error: 85.9864\n",
      "Epoch 8/100\n",
      "404/404 [==============================] - 0s 30us/step - loss: 85.0722 - mean_squared_error: 85.0722\n",
      "Epoch 9/100\n",
      "404/404 [==============================] - 0s 30us/step - loss: 84.8823 - mean_squared_error: 84.8823\n",
      "Epoch 10/100\n",
      "404/404 [==============================] - 0s 30us/step - loss: 84.8652 - mean_squared_error: 84.8652\n",
      "Epoch 11/100\n",
      "404/404 [==============================] - 0s 40us/step - loss: 84.8451 - mean_squared_error: 84.8451\n",
      "Epoch 12/100\n",
      "404/404 [==============================] - 0s 40us/step - loss: 87.8616 - mean_squared_error: 87.8616\n",
      "Epoch 13/100\n",
      "404/404 [==============================] - 0s 30us/step - loss: 85.0788 - mean_squared_error: 85.0788\n",
      "Epoch 14/100\n",
      "404/404 [==============================] - 0s 30us/step - loss: 84.8530 - mean_squared_error: 84.8530\n",
      "Epoch 15/100\n",
      "404/404 [==============================] - 0s 30us/step - loss: 84.8169 - mean_squared_error: 84.8169\n",
      "Epoch 16/100\n",
      "404/404 [==============================] - 0s 40us/step - loss: 85.7309 - mean_squared_error: 85.7309\n",
      "Epoch 17/100\n",
      "404/404 [==============================] - 0s 40us/step - loss: 84.9781 - mean_squared_error: 84.9781\n",
      "Epoch 18/100\n",
      "404/404 [==============================] - 0s 50us/step - loss: 85.3297 - mean_squared_error: 85.3297\n",
      "Epoch 19/100\n",
      "404/404 [==============================] - 0s 30us/step - loss: 84.7285 - mean_squared_error: 84.7285\n",
      "Epoch 20/100\n",
      "404/404 [==============================] - 0s 40us/step - loss: 84.9944 - mean_squared_error: 84.9944\n",
      "Epoch 21/100\n",
      "404/404 [==============================] - 0s 40us/step - loss: 85.2002 - mean_squared_error: 85.2002\n",
      "Epoch 22/100\n",
      "404/404 [==============================] - 0s 30us/step - loss: 87.4534 - mean_squared_error: 87.4534\n",
      "Epoch 23/100\n",
      "404/404 [==============================] - 0s 40us/step - loss: 84.7205 - mean_squared_error: 84.7205\n",
      "Epoch 24/100\n",
      "404/404 [==============================] - 0s 30us/step - loss: 85.1740 - mean_squared_error: 85.1740\n",
      "Epoch 25/100\n",
      "404/404 [==============================] - 0s 40us/step - loss: 85.6737 - mean_squared_error: 85.6737\n",
      "Epoch 26/100\n",
      "404/404 [==============================] - 0s 40us/step - loss: 84.7800 - mean_squared_error: 84.7800\n",
      "Epoch 27/100\n",
      "404/404 [==============================] - 0s 40us/step - loss: 84.9251 - mean_squared_error: 84.9251\n",
      "Epoch 28/100\n",
      "404/404 [==============================] - 0s 40us/step - loss: 85.3049 - mean_squared_error: 85.3049\n",
      "Epoch 29/100\n",
      "404/404 [==============================] - 0s 40us/step - loss: 84.6836 - mean_squared_error: 84.6836\n",
      "Epoch 30/100\n",
      "404/404 [==============================] - 0s 20us/step - loss: 84.9261 - mean_squared_error: 84.9261\n",
      "Epoch 31/100\n",
      "404/404 [==============================] - 0s 40us/step - loss: 85.1890 - mean_squared_error: 85.1890\n",
      "Epoch 32/100\n",
      "404/404 [==============================] - 0s 40us/step - loss: 85.0584 - mean_squared_error: 85.0584\n",
      "Epoch 33/100\n",
      "404/404 [==============================] - 0s 40us/step - loss: 84.8469 - mean_squared_error: 84.8469\n",
      "Epoch 34/100\n",
      "404/404 [==============================] - 0s 30us/step - loss: 84.7067 - mean_squared_error: 84.7067\n",
      "Epoch 35/100\n",
      "404/404 [==============================] - 0s 30us/step - loss: 84.9349 - mean_squared_error: 84.9349\n",
      "Epoch 36/100\n",
      "404/404 [==============================] - 0s 40us/step - loss: 85.3125 - mean_squared_error: 85.3125\n",
      "Epoch 37/100\n",
      "404/404 [==============================] - 0s 30us/step - loss: 85.2304 - mean_squared_error: 85.2304\n",
      "Epoch 38/100\n",
      "404/404 [==============================] - 0s 20us/step - loss: 85.8258 - mean_squared_error: 85.8258\n",
      "Epoch 39/100\n",
      "404/404 [==============================] - 0s 30us/step - loss: 86.1548 - mean_squared_error: 86.1548\n",
      "Epoch 40/100\n",
      "404/404 [==============================] - 0s 30us/step - loss: 85.3838 - mean_squared_error: 85.3838\n",
      "Epoch 41/100\n",
      "404/404 [==============================] - 0s 30us/step - loss: 84.9162 - mean_squared_error: 84.9162\n",
      "Epoch 42/100\n",
      "404/404 [==============================] - 0s 40us/step - loss: 85.8064 - mean_squared_error: 85.8064\n",
      "Epoch 43/100\n",
      "404/404 [==============================] - 0s 30us/step - loss: 85.3136 - mean_squared_error: 85.3136\n",
      "Epoch 44/100\n",
      "404/404 [==============================] - 0s 40us/step - loss: 85.0612 - mean_squared_error: 85.0612\n",
      "Epoch 45/100\n",
      "404/404 [==============================] - 0s 40us/step - loss: 85.1175 - mean_squared_error: 85.1175\n",
      "Epoch 46/100\n",
      "404/404 [==============================] - 0s 30us/step - loss: 85.2011 - mean_squared_error: 85.2011\n",
      "Epoch 47/100\n",
      "404/404 [==============================] - 0s 40us/step - loss: 85.3544 - mean_squared_error: 85.3544\n",
      "Epoch 48/100\n",
      "404/404 [==============================] - 0s 30us/step - loss: 85.0291 - mean_squared_error: 85.0291\n",
      "Epoch 49/100\n",
      "404/404 [==============================] - 0s 30us/step - loss: 85.0056 - mean_squared_error: 85.0056\n",
      "Epoch 50/100\n",
      "404/404 [==============================] - 0s 30us/step - loss: 86.0137 - mean_squared_error: 86.0137\n",
      "Epoch 51/100\n",
      "404/404 [==============================] - 0s 30us/step - loss: 84.7619 - mean_squared_error: 84.7619\n",
      "Epoch 52/100\n",
      "404/404 [==============================] - 0s 30us/step - loss: 85.5051 - mean_squared_error: 85.5051\n",
      "Epoch 53/100\n",
      "404/404 [==============================] - 0s 40us/step - loss: 84.8717 - mean_squared_error: 84.8717\n",
      "Epoch 54/100\n",
      "404/404 [==============================] - 0s 30us/step - loss: 85.0825 - mean_squared_error: 85.0825\n",
      "Epoch 55/100\n",
      "404/404 [==============================] - 0s 40us/step - loss: 86.9910 - mean_squared_error: 86.9910\n",
      "Epoch 56/100\n",
      "404/404 [==============================] - 0s 30us/step - loss: 84.7277 - mean_squared_error: 84.7277\n",
      "Epoch 57/100\n",
      "404/404 [==============================] - 0s 30us/step - loss: 85.0388 - mean_squared_error: 85.0388\n",
      "Epoch 58/100\n",
      "404/404 [==============================] - 0s 20us/step - loss: 86.2865 - mean_squared_error: 86.2865\n",
      "Epoch 59/100\n",
      "404/404 [==============================] - 0s 30us/step - loss: 84.8136 - mean_squared_error: 84.8136\n",
      "Epoch 60/100\n",
      "404/404 [==============================] - 0s 40us/step - loss: 85.1962 - mean_squared_error: 85.1962\n",
      "Epoch 61/100\n",
      "404/404 [==============================] - 0s 30us/step - loss: 85.2153 - mean_squared_error: 85.2153\n",
      "Epoch 62/100\n",
      "404/404 [==============================] - 0s 40us/step - loss: 85.3012 - mean_squared_error: 85.3012\n",
      "Epoch 63/100\n",
      "404/404 [==============================] - 0s 30us/step - loss: 85.7584 - mean_squared_error: 85.7584\n",
      "Epoch 64/100\n",
      "404/404 [==============================] - 0s 40us/step - loss: 85.7277 - mean_squared_error: 85.7277\n",
      "Epoch 65/100\n",
      "404/404 [==============================] - 0s 30us/step - loss: 84.8018 - mean_squared_error: 84.8018\n",
      "Epoch 66/100\n",
      "404/404 [==============================] - 0s 30us/step - loss: 85.3280 - mean_squared_error: 85.3280\n",
      "Epoch 67/100\n",
      "404/404 [==============================] - 0s 30us/step - loss: 85.0933 - mean_squared_error: 85.0933\n",
      "Epoch 68/100\n",
      "404/404 [==============================] - 0s 30us/step - loss: 84.9279 - mean_squared_error: 84.9279\n",
      "Epoch 69/100\n",
      "404/404 [==============================] - 0s 40us/step - loss: 85.0700 - mean_squared_error: 85.0700\n",
      "Epoch 70/100\n"
     ]
    },
    {
     "name": "stdout",
     "output_type": "stream",
     "text": [
      "404/404 [==============================] - 0s 30us/step - loss: 84.9967 - mean_squared_error: 84.9967\n",
      "Epoch 71/100\n",
      "404/404 [==============================] - 0s 30us/step - loss: 85.1460 - mean_squared_error: 85.1460\n",
      "Epoch 72/100\n",
      "404/404 [==============================] - 0s 30us/step - loss: 84.9789 - mean_squared_error: 84.9789\n",
      "Epoch 73/100\n",
      "404/404 [==============================] - 0s 30us/step - loss: 85.5028 - mean_squared_error: 85.5028\n",
      "Epoch 74/100\n",
      "404/404 [==============================] - 0s 40us/step - loss: 84.8611 - mean_squared_error: 84.8611\n",
      "Epoch 75/100\n",
      "404/404 [==============================] - 0s 30us/step - loss: 85.1599 - mean_squared_error: 85.1599\n",
      "Epoch 76/100\n",
      "404/404 [==============================] - 0s 40us/step - loss: 85.0759 - mean_squared_error: 85.0759\n",
      "Epoch 77/100\n",
      "404/404 [==============================] - 0s 40us/step - loss: 84.9414 - mean_squared_error: 84.9414\n",
      "Epoch 78/100\n",
      "404/404 [==============================] - 0s 30us/step - loss: 85.4114 - mean_squared_error: 85.4114\n",
      "Epoch 79/100\n",
      "404/404 [==============================] - 0s 30us/step - loss: 85.5124 - mean_squared_error: 85.5124\n",
      "Epoch 80/100\n",
      "404/404 [==============================] - 0s 20us/step - loss: 85.8367 - mean_squared_error: 85.8367\n",
      "Epoch 81/100\n",
      "404/404 [==============================] - 0s 30us/step - loss: 84.9861 - mean_squared_error: 84.9861\n",
      "Epoch 82/100\n",
      "404/404 [==============================] - 0s 30us/step - loss: 85.2705 - mean_squared_error: 85.2705\n",
      "Epoch 83/100\n",
      "404/404 [==============================] - 0s 30us/step - loss: 85.4444 - mean_squared_error: 85.4444\n",
      "Epoch 84/100\n",
      "404/404 [==============================] - 0s 30us/step - loss: 85.5603 - mean_squared_error: 85.5603\n",
      "Epoch 85/100\n",
      "404/404 [==============================] - 0s 40us/step - loss: 85.0585 - mean_squared_error: 85.0585\n",
      "Epoch 86/100\n",
      "404/404 [==============================] - 0s 30us/step - loss: 84.8288 - mean_squared_error: 84.8288\n",
      "Epoch 87/100\n",
      "404/404 [==============================] - 0s 40us/step - loss: 85.1185 - mean_squared_error: 85.1185\n",
      "Epoch 88/100\n",
      "404/404 [==============================] - 0s 30us/step - loss: 84.7839 - mean_squared_error: 84.7839\n",
      "Epoch 89/100\n",
      "404/404 [==============================] - 0s 40us/step - loss: 85.2703 - mean_squared_error: 85.2703\n",
      "Epoch 90/100\n",
      "404/404 [==============================] - 0s 30us/step - loss: 84.7796 - mean_squared_error: 84.7796\n",
      "Epoch 91/100\n",
      "404/404 [==============================] - 0s 40us/step - loss: 85.0328 - mean_squared_error: 85.0328\n",
      "Epoch 92/100\n",
      "404/404 [==============================] - 0s 40us/step - loss: 85.1731 - mean_squared_error: 85.1731\n",
      "Epoch 93/100\n",
      "404/404 [==============================] - 0s 30us/step - loss: 85.0168 - mean_squared_error: 85.0168\n",
      "Epoch 94/100\n",
      "404/404 [==============================] - 0s 30us/step - loss: 85.0955 - mean_squared_error: 85.0955\n",
      "Epoch 95/100\n",
      "404/404 [==============================] - 0s 30us/step - loss: 84.9864 - mean_squared_error: 84.9864\n",
      "Epoch 96/100\n",
      "404/404 [==============================] - 0s 30us/step - loss: 86.1278 - mean_squared_error: 86.1278\n",
      "Epoch 97/100\n",
      "404/404 [==============================] - 0s 30us/step - loss: 84.9733 - mean_squared_error: 84.9733\n",
      "Epoch 98/100\n",
      "404/404 [==============================] - 0s 40us/step - loss: 85.0534 - mean_squared_error: 85.0534\n",
      "Epoch 99/100\n",
      "404/404 [==============================] - 0s 30us/step - loss: 84.7377 - mean_squared_error: 84.7377\n",
      "Epoch 100/100\n",
      "404/404 [==============================] - 0s 30us/step - loss: 85.1217 - mean_squared_error: 85.1217\n"
     ]
    },
    {
     "data": {
      "text/plain": [
       "<keras.callbacks.History at 0x1808eb75828>"
      ]
     },
     "execution_count": 14,
     "metadata": {},
     "output_type": "execute_result"
    }
   ],
   "source": [
    "model.fit(X_train, y_train, batch_size = 50, epochs = 10, verbose = 1)"
   ]
  },
  {
   "cell_type": "markdown",
   "metadata": {},
   "source": [
    "### 3. Evaluation\n",
    "- Keras model can be evaluated with evaluate() function\n",
    "- Evaluation results are contained in a list\n",
    "    - Doc (metrics): https://keras.io/metrics/"
   ]
  },
  {
   "cell_type": "code",
   "execution_count": 15,
   "metadata": {},
   "outputs": [
    {
     "name": "stdout",
     "output_type": "stream",
     "text": [
      "102/102 [==============================] - 0s 470us/step\n"
     ]
    }
   ],
   "source": [
    "results = model.evaluate(X_test, y_test)"
   ]
  },
  {
   "cell_type": "code",
   "execution_count": 16,
   "metadata": {},
   "outputs": [
    {
     "name": "stdout",
     "output_type": "stream",
     "text": [
      "['loss', 'mean_squared_error']\n",
      "[83.26013033997779, 83.26013033997779]\n"
     ]
    }
   ],
   "source": [
    "print(model.metrics_names)     # list of metric names the model is employing\n",
    "print(results)                 # actual figure of metrics computed"
   ]
  },
  {
   "cell_type": "code",
   "execution_count": 17,
   "metadata": {},
   "outputs": [
    {
     "name": "stdout",
     "output_type": "stream",
     "text": [
      "loss:  83.26013033997779\n",
      "mse:  83.26013033997779\n"
     ]
    }
   ],
   "source": [
    "print('loss: ', results[0])\n",
    "print('mse: ', results[1])"
   ]
  },
  {
   "cell_type": "markdown",
   "metadata": {},
   "source": [
    "## MLP for classification tasks\n",
    "- When the target (**y**) is discrete (categorical)\n",
    "- For loss function, cross-entropy is used and for evaluation metric, accuracy is commonly used"
   ]
  },
  {
   "cell_type": "code",
   "execution_count": 18,
   "metadata": {},
   "outputs": [],
   "source": [
    "from sklearn.datasets import load_breast_cancer\n",
    "from sklearn.model_selection import train_test_split"
   ]
  },
  {
   "cell_type": "code",
   "execution_count": 19,
   "metadata": {},
   "outputs": [],
   "source": [
    "whole_data = load_breast_cancer()"
   ]
  },
  {
   "cell_type": "code",
   "execution_count": 20,
   "metadata": {},
   "outputs": [],
   "source": [
    "X_data = whole_data.data\n",
    "y_data = whole_data.target"
   ]
  },
  {
   "cell_type": "code",
   "execution_count": 21,
   "metadata": {},
   "outputs": [],
   "source": [
    "X_train, X_test, y_train, y_test = train_test_split(X_data, y_data, test_size = 0.3, random_state = 7) "
   ]
  },
  {
   "cell_type": "markdown",
   "metadata": {},
   "source": [
    "### Dataset Description\n",
    "- Breast cancer dataset has total 569 data instances (212 malign, 357 benign instances)\n",
    "- 30 attributes (features) to predict the binary class (M/B)\n",
    "- Doc: http://scikit-learn.org/stable/modules/generated/sklearn.datasets.load_breast_cancer.html#sklearn.datasets.load_breast_cancer"
   ]
  },
  {
   "cell_type": "code",
   "execution_count": 22,
   "metadata": {},
   "outputs": [
    {
     "name": "stdout",
     "output_type": "stream",
     "text": [
      "(398, 30)\n",
      "(171, 30)\n",
      "(398,)\n",
      "(171,)\n"
     ]
    }
   ],
   "source": [
    "print(X_train.shape)\n",
    "print(X_test.shape)\n",
    "print(y_train.shape)\n",
    "print(y_test.shape)"
   ]
  },
  {
   "cell_type": "markdown",
   "metadata": {},
   "source": [
    "### 1. Creating a model\n",
    "- Same with regression model at the outset"
   ]
  },
  {
   "cell_type": "code",
   "execution_count": 23,
   "metadata": {},
   "outputs": [],
   "source": [
    "from keras.models import Sequential"
   ]
  },
  {
   "cell_type": "code",
   "execution_count": 24,
   "metadata": {},
   "outputs": [],
   "source": [
    "model = Sequential()"
   ]
  },
  {
   "cell_type": "markdown",
   "metadata": {},
   "source": [
    "### 1-1. Adding layers\n",
    "- Keras layers can be **added** to the model\n",
    "- Adding layers are like stacking lego blocks one by one\n",
    "- It should be noted that as this is a classification problem, sigmoid layer (softmax for multi-class problems) should be added\n",
    "- Doc: https://keras.io/layers/core/"
   ]
  },
  {
   "cell_type": "code",
   "execution_count": 25,
   "metadata": {},
   "outputs": [],
   "source": [
    "# Keras model with two hidden layer with 10 neurons each \n",
    "model.add(Dense(10, input_shape = (30,)))    # Input layer => input_shape should be explicitly designated\n",
    "model.add(Activation('sigmoid'))\n",
    "model.add(Dense(10))                         # Hidden layer => only output dimension should be designated\n",
    "model.add(Activation('sigmoid'))\n",
    "model.add(Dense(10))                         # Hidden layer => only output dimension should be designated\n",
    "model.add(Activation('sigmoid'))\n",
    "model.add(Dense(1))                          # Output layer => output dimension = 1 since it is regression problem\n",
    "model.add(Activation('sigmoid'))"
   ]
  },
  {
   "cell_type": "code",
   "execution_count": 27,
   "metadata": {},
   "outputs": [],
   "source": [
    "# This is equivalent to the above code block\n",
    "model.add(Dense(10, input_shape = (30,), activation = 'sigmoid'))\n",
    "model.add(Dense(10, activation = 'sigmoid'))\n",
    "model.add(Dense(10, activation = 'sigmoid'))\n",
    "model.add(Dense(1, activation = 'sigmoid'))"
   ]
  },
  {
   "cell_type": "markdown",
   "metadata": {},
   "source": [
    "### 1-2. Model compile\n",
    "- Keras model should be \"compiled\" prior to training\n",
    "- Types of loss (function) and optimizer should be designated\n",
    "    - Doc (optimizers): https://keras.io/optimizers/\n",
    "    - Doc (losses): https://keras.io/losses/"
   ]
  },
  {
   "cell_type": "code",
   "execution_count": 28,
   "metadata": {},
   "outputs": [],
   "source": [
    "from keras import optimizers"
   ]
  },
  {
   "cell_type": "code",
   "execution_count": 29,
   "metadata": {},
   "outputs": [],
   "source": [
    "sgd = optimizers.SGD(lr = 0.01)    # stochastic gradient descent optimizer"
   ]
  },
  {
   "cell_type": "code",
   "execution_count": 30,
   "metadata": {},
   "outputs": [],
   "source": [
    "model.compile(optimizer = sgd, loss = 'binary_crossentropy', metrics = ['accuracy'])"
   ]
  },
  {
   "cell_type": "markdown",
   "metadata": {},
   "source": [
    "### Summary of the model"
   ]
  },
  {
   "cell_type": "code",
   "execution_count": 31,
   "metadata": {
    "scrolled": true
   },
   "outputs": [
    {
     "name": "stdout",
     "output_type": "stream",
     "text": [
      "_________________________________________________________________\n",
      "Layer (type)                 Output Shape              Param #   \n",
      "=================================================================\n",
      "dense_9 (Dense)              (None, 10)                310       \n",
      "_________________________________________________________________\n",
      "activation_4 (Activation)    (None, 10)                0         \n",
      "_________________________________________________________________\n",
      "dense_10 (Dense)             (None, 10)                110       \n",
      "_________________________________________________________________\n",
      "activation_5 (Activation)    (None, 10)                0         \n",
      "_________________________________________________________________\n",
      "dense_11 (Dense)             (None, 10)                110       \n",
      "_________________________________________________________________\n",
      "activation_6 (Activation)    (None, 10)                0         \n",
      "_________________________________________________________________\n",
      "dense_12 (Dense)             (None, 1)                 11        \n",
      "_________________________________________________________________\n",
      "activation_7 (Activation)    (None, 1)                 0         \n",
      "_________________________________________________________________\n",
      "dense_13 (Dense)             (None, 10)                20        \n",
      "_________________________________________________________________\n",
      "dense_14 (Dense)             (None, 10)                110       \n",
      "_________________________________________________________________\n",
      "dense_15 (Dense)             (None, 10)                110       \n",
      "_________________________________________________________________\n",
      "dense_16 (Dense)             (None, 1)                 11        \n",
      "_________________________________________________________________\n",
      "dense_17 (Dense)             (None, 10)                20        \n",
      "_________________________________________________________________\n",
      "dense_18 (Dense)             (None, 10)                110       \n",
      "_________________________________________________________________\n",
      "dense_19 (Dense)             (None, 10)                110       \n",
      "_________________________________________________________________\n",
      "dense_20 (Dense)             (None, 1)                 11        \n",
      "=================================================================\n",
      "Total params: 1,043\n",
      "Trainable params: 1,043\n",
      "Non-trainable params: 0\n",
      "_________________________________________________________________\n"
     ]
    }
   ],
   "source": [
    "model.summary()"
   ]
  },
  {
   "cell_type": "markdown",
   "metadata": {},
   "source": [
    "### 2. Training\n",
    "- Training the model with training data provided"
   ]
  },
  {
   "cell_type": "code",
   "execution_count": 32,
   "metadata": {},
   "outputs": [
    {
     "name": "stdout",
     "output_type": "stream",
     "text": [
      "Epoch 1/100\n",
      "398/398 [==============================] - 0s 1ms/step - loss: 0.7181 - acc: 0.3945\n",
      "Epoch 2/100\n",
      "398/398 [==============================] - 0s 40us/step - loss: 0.7110 - acc: 0.3945\n",
      "Epoch 3/100\n",
      "398/398 [==============================] - 0s 30us/step - loss: 0.7050 - acc: 0.3945\n",
      "Epoch 4/100\n",
      "398/398 [==============================] - 0s 40us/step - loss: 0.6996 - acc: 0.3945\n",
      "Epoch 5/100\n",
      "398/398 [==============================] - 0s 40us/step - loss: 0.6952 - acc: 0.3945\n",
      "Epoch 6/100\n",
      "398/398 [==============================] - 0s 40us/step - loss: 0.6915 - acc: 0.6055\n",
      "Epoch 7/100\n",
      "398/398 [==============================] - 0s 30us/step - loss: 0.6884 - acc: 0.6055\n",
      "Epoch 8/100\n",
      "398/398 [==============================] - 0s 50us/step - loss: 0.6857 - acc: 0.6055\n",
      "Epoch 9/100\n",
      "398/398 [==============================] - 0s 40us/step - loss: 0.6834 - acc: 0.6055\n",
      "Epoch 10/100\n",
      "398/398 [==============================] - 0s 40us/step - loss: 0.6815 - acc: 0.6055\n",
      "Epoch 11/100\n",
      "398/398 [==============================] - 0s 30us/step - loss: 0.6799 - acc: 0.6055\n",
      "Epoch 12/100\n",
      "398/398 [==============================] - 0s 40us/step - loss: 0.6785 - acc: 0.6055\n",
      "Epoch 13/100\n",
      "398/398 [==============================] - 0s 50us/step - loss: 0.6773 - acc: 0.6055\n",
      "Epoch 14/100\n",
      "398/398 [==============================] - 0s 40us/step - loss: 0.6764 - acc: 0.6055\n",
      "Epoch 15/100\n",
      "398/398 [==============================] - 0s 40us/step - loss: 0.6755 - acc: 0.6055\n",
      "Epoch 16/100\n",
      "398/398 [==============================] - 0s 40us/step - loss: 0.6748 - acc: 0.6055\n",
      "Epoch 17/100\n",
      "398/398 [==============================] - 0s 30us/step - loss: 0.6743 - acc: 0.6055\n",
      "Epoch 18/100\n",
      "398/398 [==============================] - 0s 40us/step - loss: 0.6737 - acc: 0.6055\n",
      "Epoch 19/100\n",
      "398/398 [==============================] - 0s 40us/step - loss: 0.6733 - acc: 0.6055\n",
      "Epoch 20/100\n",
      "398/398 [==============================] - 0s 40us/step - loss: 0.6729 - acc: 0.6055\n",
      "Epoch 21/100\n",
      "398/398 [==============================] - 0s 40us/step - loss: 0.6725 - acc: 0.6055\n",
      "Epoch 22/100\n",
      "398/398 [==============================] - 0s 40us/step - loss: 0.6723 - acc: 0.6055\n",
      "Epoch 23/100\n",
      "398/398 [==============================] - 0s 30us/step - loss: 0.6721 - acc: 0.6055\n",
      "Epoch 24/100\n",
      "398/398 [==============================] - 0s 50us/step - loss: 0.6719 - acc: 0.6055\n",
      "Epoch 25/100\n",
      "398/398 [==============================] - 0s 40us/step - loss: 0.6717 - acc: 0.6055\n",
      "Epoch 26/100\n",
      "398/398 [==============================] - 0s 40us/step - loss: 0.6717 - acc: 0.6055\n",
      "Epoch 27/100\n",
      "398/398 [==============================] - 0s 40us/step - loss: 0.6715 - acc: 0.6055\n",
      "Epoch 28/100\n",
      "398/398 [==============================] - 0s 30us/step - loss: 0.6713 - acc: 0.6055\n",
      "Epoch 29/100\n",
      "398/398 [==============================] - 0s 40us/step - loss: 0.6712 - acc: 0.6055\n",
      "Epoch 30/100\n",
      "398/398 [==============================] - 0s 50us/step - loss: 0.6712 - acc: 0.6055\n",
      "Epoch 31/100\n",
      "398/398 [==============================] - 0s 40us/step - loss: 0.6711 - acc: 0.6055\n",
      "Epoch 32/100\n",
      "398/398 [==============================] - 0s 30us/step - loss: 0.6711 - acc: 0.6055\n",
      "Epoch 33/100\n",
      "398/398 [==============================] - 0s 40us/step - loss: 0.6710 - acc: 0.6055\n",
      "Epoch 34/100\n",
      "398/398 [==============================] - 0s 30us/step - loss: 0.6710 - acc: 0.6055\n",
      "Epoch 35/100\n",
      "398/398 [==============================] - 0s 40us/step - loss: 0.6710 - acc: 0.6055\n",
      "Epoch 36/100\n",
      "398/398 [==============================] - 0s 40us/step - loss: 0.6711 - acc: 0.6055\n",
      "Epoch 37/100\n",
      "398/398 [==============================] - 0s 40us/step - loss: 0.6709 - acc: 0.6055\n",
      "Epoch 38/100\n",
      "398/398 [==============================] - 0s 50us/step - loss: 0.6709 - acc: 0.6055\n",
      "Epoch 39/100\n",
      "398/398 [==============================] - 0s 30us/step - loss: 0.6709 - acc: 0.6055\n",
      "Epoch 40/100\n",
      "398/398 [==============================] - 0s 50us/step - loss: 0.6708 - acc: 0.6055\n",
      "Epoch 41/100\n",
      "398/398 [==============================] - 0s 40us/step - loss: 0.6709 - acc: 0.6055\n",
      "Epoch 42/100\n",
      "398/398 [==============================] - 0s 50us/step - loss: 0.6711 - acc: 0.6055\n",
      "Epoch 43/100\n",
      "398/398 [==============================] - 0s 40us/step - loss: 0.6708 - acc: 0.6055\n",
      "Epoch 44/100\n",
      "398/398 [==============================] - 0s 30us/step - loss: 0.6708 - acc: 0.6055\n",
      "Epoch 45/100\n",
      "398/398 [==============================] - 0s 40us/step - loss: 0.6708 - acc: 0.6055\n",
      "Epoch 46/100\n",
      "398/398 [==============================] - 0s 40us/step - loss: 0.6709 - acc: 0.6055\n",
      "Epoch 47/100\n",
      "398/398 [==============================] - 0s 30us/step - loss: 0.6709 - acc: 0.6055\n",
      "Epoch 48/100\n",
      "398/398 [==============================] - 0s 40us/step - loss: 0.6708 - acc: 0.6055\n",
      "Epoch 49/100\n",
      "398/398 [==============================] - 0s 40us/step - loss: 0.6708 - acc: 0.6055\n",
      "Epoch 50/100\n",
      "398/398 [==============================] - 0s 40us/step - loss: 0.6708 - acc: 0.6055\n",
      "Epoch 51/100\n",
      "398/398 [==============================] - 0s 40us/step - loss: 0.6708 - acc: 0.6055\n",
      "Epoch 52/100\n",
      "398/398 [==============================] - 0s 40us/step - loss: 0.6709 - acc: 0.6055\n",
      "Epoch 53/100\n",
      "398/398 [==============================] - 0s 30us/step - loss: 0.6708 - acc: 0.6055\n",
      "Epoch 54/100\n",
      "398/398 [==============================] - 0s 40us/step - loss: 0.6708 - acc: 0.6055\n",
      "Epoch 55/100\n",
      "398/398 [==============================] - ETA: 0s - loss: 0.7066 - acc: 0.520 - 0s 40us/step - loss: 0.6708 - acc: 0.6055\n",
      "Epoch 56/100\n",
      "398/398 [==============================] - 0s 30us/step - loss: 0.6708 - acc: 0.6055\n",
      "Epoch 57/100\n",
      "398/398 [==============================] - 0s 20us/step - loss: 0.6708 - acc: 0.6055\n",
      "Epoch 58/100\n",
      "398/398 [==============================] - 0s 30us/step - loss: 0.6708 - acc: 0.6055\n",
      "Epoch 59/100\n",
      "398/398 [==============================] - 0s 30us/step - loss: 0.6708 - acc: 0.6055\n",
      "Epoch 60/100\n",
      "398/398 [==============================] - 0s 30us/step - loss: 0.6708 - acc: 0.6055\n",
      "Epoch 61/100\n",
      "398/398 [==============================] - 0s 30us/step - loss: 0.6708 - acc: 0.6055\n",
      "Epoch 62/100\n",
      "398/398 [==============================] - 0s 40us/step - loss: 0.6708 - acc: 0.6055\n",
      "Epoch 63/100\n",
      "398/398 [==============================] - 0s 30us/step - loss: 0.6710 - acc: 0.6055\n",
      "Epoch 64/100\n",
      "398/398 [==============================] - 0s 40us/step - loss: 0.6708 - acc: 0.6055\n",
      "Epoch 65/100\n",
      "398/398 [==============================] - 0s 40us/step - loss: 0.6709 - acc: 0.6055\n",
      "Epoch 66/100\n",
      "398/398 [==============================] - 0s 30us/step - loss: 0.6708 - acc: 0.6055\n",
      "Epoch 67/100\n",
      "398/398 [==============================] - 0s 30us/step - loss: 0.6708 - acc: 0.6055\n",
      "Epoch 68/100\n",
      "398/398 [==============================] - 0s 20us/step - loss: 0.6708 - acc: 0.6055\n",
      "Epoch 69/100\n",
      "398/398 [==============================] - 0s 30us/step - loss: 0.6709 - acc: 0.6055\n",
      "Epoch 70/100\n",
      "398/398 [==============================] - 0s 30us/step - loss: 0.6708 - acc: 0.6055\n",
      "Epoch 71/100\n",
      "398/398 [==============================] - 0s 30us/step - loss: 0.6707 - acc: 0.6055\n",
      "Epoch 72/100\n",
      "398/398 [==============================] - 0s 30us/step - loss: 0.6708 - acc: 0.6055\n",
      "Epoch 73/100\n",
      "398/398 [==============================] - 0s 40us/step - loss: 0.6708 - acc: 0.6055\n",
      "Epoch 74/100\n",
      "398/398 [==============================] - 0s 40us/step - loss: 0.6708 - acc: 0.6055\n",
      "Epoch 75/100\n",
      "398/398 [==============================] - 0s 30us/step - loss: 0.6707 - acc: 0.6055\n",
      "Epoch 76/100\n",
      "398/398 [==============================] - 0s 30us/step - loss: 0.6708 - acc: 0.6055\n",
      "Epoch 77/100\n",
      "398/398 [==============================] - 0s 40us/step - loss: 0.6708 - acc: 0.6055\n",
      "Epoch 78/100\n",
      "398/398 [==============================] - 0s 30us/step - loss: 0.6709 - acc: 0.6055\n",
      "Epoch 79/100\n",
      "398/398 [==============================] - 0s 30us/step - loss: 0.6708 - acc: 0.6055\n",
      "Epoch 80/100\n",
      "398/398 [==============================] - 0s 30us/step - loss: 0.6707 - acc: 0.6055\n",
      "Epoch 81/100\n",
      "398/398 [==============================] - 0s 40us/step - loss: 0.6708 - acc: 0.6055\n",
      "Epoch 82/100\n",
      "398/398 [==============================] - 0s 30us/step - loss: 0.6708 - acc: 0.6055\n",
      "Epoch 83/100\n",
      "398/398 [==============================] - 0s 30us/step - loss: 0.6708 - acc: 0.6055\n",
      "Epoch 84/100\n",
      "398/398 [==============================] - 0s 30us/step - loss: 0.6708 - acc: 0.6055\n",
      "Epoch 85/100\n",
      "398/398 [==============================] - 0s 30us/step - loss: 0.6708 - acc: 0.6055\n",
      "Epoch 86/100\n",
      "398/398 [==============================] - 0s 40us/step - loss: 0.6707 - acc: 0.6055\n",
      "Epoch 87/100\n",
      "398/398 [==============================] - 0s 30us/step - loss: 0.6707 - acc: 0.6055\n",
      "Epoch 88/100\n",
      "398/398 [==============================] - 0s 40us/step - loss: 0.6708 - acc: 0.6055\n",
      "Epoch 89/100\n",
      "398/398 [==============================] - 0s 30us/step - loss: 0.6708 - acc: 0.6055\n",
      "Epoch 90/100\n",
      "398/398 [==============================] - 0s 40us/step - loss: 0.6707 - acc: 0.6055\n",
      "Epoch 91/100\n",
      "398/398 [==============================] - 0s 50us/step - loss: 0.6707 - acc: 0.6055\n",
      "Epoch 92/100\n",
      "398/398 [==============================] - 0s 40us/step - loss: 0.6708 - acc: 0.6055\n",
      "Epoch 93/100\n",
      "398/398 [==============================] - 0s 50us/step - loss: 0.6707 - acc: 0.6055\n",
      "Epoch 94/100\n",
      "398/398 [==============================] - 0s 30us/step - loss: 0.6708 - acc: 0.6055\n",
      "Epoch 95/100\n",
      "398/398 [==============================] - 0s 50us/step - loss: 0.6708 - acc: 0.6055\n",
      "Epoch 96/100\n",
      "398/398 [==============================] - 0s 50us/step - loss: 0.6708 - acc: 0.6055\n",
      "Epoch 97/100\n",
      "398/398 [==============================] - 0s 40us/step - loss: 0.6708 - acc: 0.6055\n",
      "Epoch 98/100\n",
      "398/398 [==============================] - 0s 40us/step - loss: 0.6708 - acc: 0.6055\n",
      "Epoch 99/100\n",
      "398/398 [==============================] - 0s 40us/step - loss: 0.6708 - acc: 0.6055\n",
      "Epoch 100/100\n",
      "398/398 [==============================] - 0s 40us/step - loss: 0.6708 - acc: 0.6055\n"
     ]
    },
    {
     "data": {
      "text/plain": [
       "<keras.callbacks.History at 0x18091025860>"
      ]
     },
     "execution_count": 32,
     "metadata": {},
     "output_type": "execute_result"
    }
   ],
   "source": [
    "model.fit(X_train, y_train, batch_size = 50, epochs = 100, verbose = 1)"
   ]
  },
  {
   "cell_type": "markdown",
   "metadata": {},
   "source": [
    "### 3. Evaluation\n",
    "- Keras model can be evaluated with evaluate() function\n",
    "- Evaluation results are contained in a list\n",
    "    - Doc (metrics): https://keras.io/metrics/"
   ]
  },
  {
   "cell_type": "code",
   "execution_count": 33,
   "metadata": {},
   "outputs": [
    {
     "name": "stdout",
     "output_type": "stream",
     "text": [
      "171/171 [==============================] - 0s 770us/step\n"
     ]
    }
   ],
   "source": [
    "results = model.evaluate(X_test, y_test)"
   ]
  },
  {
   "cell_type": "code",
   "execution_count": 34,
   "metadata": {},
   "outputs": [
    {
     "name": "stdout",
     "output_type": "stream",
     "text": [
      "['loss', 'acc']\n",
      "[0.6395142270110504, 0.6783625724022848]\n"
     ]
    }
   ],
   "source": [
    "print(model.metrics_names)     # list of metric names the model is employing\n",
    "print(results)                 # actual figure of metrics computed"
   ]
  },
  {
   "cell_type": "code",
   "execution_count": 35,
   "metadata": {},
   "outputs": [
    {
     "name": "stdout",
     "output_type": "stream",
     "text": [
      "loss:  0.6395142270110504\n",
      "accuracy:  0.6783625724022848\n"
     ]
    }
   ],
   "source": [
    "print('loss: ', results[0])\n",
    "print('accuracy: ', results[1])"
   ]
  },
  {
   "cell_type": "code",
   "execution_count": null,
   "metadata": {},
   "outputs": [],
   "source": []
  }
 ],
 "metadata": {
  "kernelspec": {
   "display_name": "Python 3",
   "language": "python",
   "name": "python3"
  },
  "language_info": {
   "codemirror_mode": {
    "name": "ipython",
    "version": 3
   },
   "file_extension": ".py",
   "mimetype": "text/x-python",
   "name": "python",
   "nbconvert_exporter": "python",
   "pygments_lexer": "ipython3",
   "version": "3.6.8"
  }
 },
 "nbformat": 4,
 "nbformat_minor": 2
}
